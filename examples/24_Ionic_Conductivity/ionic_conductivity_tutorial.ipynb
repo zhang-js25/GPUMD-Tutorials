{
 "cells": [
  {
   "cell_type": "markdown",
   "id": "71118186",
   "metadata": {},
   "source": [
    "# Ionic Conductivity Simulation Tutorial\n",
    "This notebook demonstrates how to simulate and analyze the ionic conductivity of Li$^+$ ions in LLZO using GPUMD and Python tools. It covers simulation setup, MSD calculation, diffusion coefficient extraction, conductivity calculation, and activation energy estimation."
   ]
  },
  {
   "cell_type": "markdown",
   "id": "a716ad36",
   "metadata": {},
   "source": [
    "## Required Dependencies\n",
    "- GPUMD (for MD simulation)\n",
    "- Python 3.x\n",
    "- numpy\n",
    "- matplotlib\n",
    "- scipy\n",
    "- GPUMDkit (for analysis and plotting)\n",
    "\n",
    "Install Python packages with:\n",
    "```python\n",
    "!pip install numpy matplotlib scipy\n",
    "```\n",
    "GPUMDkit: [https://github.com/zhyan0603/GPUMDkit](https://github.com/zhyan0603/GPUMDkit)\n",
    "GPUMD: [https://gpumd.org/](https://gpumd.org/)"
   ]
  },
  {
   "cell_type": "markdown",
   "id": "b6d6dc77",
   "metadata": {},
   "source": [
    "## Step 1: Prepare Input Files\n",
    "- `model.xyz`: Atomic structure of LLZO.\n",
    "- `nep.txt`: NEP potential file (see below for example).\n",
    "\n",
    "If you need to train a NEP model, use the NEP package and your training dataset. Example training command:\n",
    "```bash\n",
    "nep train --input training_data.extxyz --output nep.txt\n",
    "```\n",
    "For this tutorial, a pre-trained NEP file is provided."
   ]
  },
  {
   "cell_type": "code",
   "execution_count": null,
   "id": "aea1e234",
   "metadata": {},
   "outputs": [],
   "source": [
    "# Check input files\n",
    "import os\n",
    "for fname in ['model.xyz', 'nep.txt']:\n",
    "    print(f'{fname}:', 'Found' if os.path.exists(fname) else 'Missing')"
   ]
  },
  {
   "cell_type": "markdown",
   "id": "8517a334",
   "metadata": {},
   "source": [
    "## Step 2: GPUMD Simulation Setup\n",
    "Create a GPUMD input file (e.g., `run.in`) for NPT simulation and MSD calculation. Example:\n",
    "```\n",
    "potential ../nep.txt\n",
    "velocity    1000\n",
    "ensemble    npt_mttk temp 1000 1000 aniso 0 0\n",
    "run        50000\n",
    "ensemble    npt_mttk temp 1000 1000 aniso 0 0\n",
    "compute_msd 10 5000 group 0 0\n",
    "dump_thermo 100\n",
    "dump_exyz 1000000\n",
    "run        1000000\n",
    "```\n",
    "Run the simulation with GPUMD:\n",
    "```bash\n",
    "gpumd\n",
    "```\n",
    "This generates `msd.out` and `thermo.out` files."
   ]
  },
  {
   "cell_type": "markdown",
   "id": "3f47a9c6",
   "metadata": {},
   "source": [
    "## Step 3: Analyze MSD Data\n",
    "The MSD quantifies Li$^+$ ion movement. Columns in `msd.out`:\n",
    "1. Time (ps)\n",
    "2. MSD$_x$ (Å$^2$)\n",
    "3. MSD$_y$ (Å$^2$)\n",
    "4. MSD$_z$ (Å$^2$)\n",
    "5. SDC$_x$ (Å$^2$/ps)\n",
    "6. SDC$_y$ (Å$^2$/ps)\n",
    "7. SDC$_z$ (Å$^2$/ps)"
   ]
  },
  {
   "cell_type": "code",
   "execution_count": null,
   "id": "d978c483",
   "metadata": {},
   "outputs": [],
   "source": [
    "# Plot MSD\n",
    "import numpy as np\n",
    "import matplotlib.pyplot as plt\n",
    "data = np.loadtxt('msd.out')\n",
    "time = data[:, 0]\n",
    "msd = data[:, 1:4].sum(axis=1)\n",
    "plt.plot(time, msd)\n",
    "plt.xlabel('Time (ps)')\n",
    "plt.ylabel('MSD (Å$^2$)')\n",
    "plt.title('Mean Squared Displacement of Li$^+$')\n",
    "plt.show()"
   ]
  },
  {
   "cell_type": "markdown",
   "id": "c3847262",
   "metadata": {},
   "source": [
    "## Step 4: Calculate Diffusion Coefficient\n",
    "Fit the linear region of MSD vs. time to get the slope $k$ (Å$^2$/ps).\n",
    "The diffusion coefficient $D$ is:\n",
    "$D = k / (2N)$, where $N=3$ for 3D diffusion."
   ]
  },
  {
   "cell_type": "code",
   "execution_count": null,
   "id": "8291b520",
   "metadata": {},
   "outputs": [],
   "source": [
    "# Fit linear region to get D\n",
    "start = int(len(time) * 0.1)\n",
    "end = int(len(time) * 0.4)\n",
    "k, _ = np.polyfit(time[start:end], msd[start:end], 1)\n",
    "D = k / (2 * 3)\n",
    "print(f'Diffusion coefficient D = {D:.3e} Å^2/ps')"
   ]
  },
  {
   "cell_type": "markdown",
   "id": "857b508b",
   "metadata": {},
   "source": [
    "## Step 5: Calculate Ionic Conductivity\n",
    "Use the Nernst-Einstein relation:\n",
    "$igma = n q^2 D / (k_B T)$\n",
    "Where:\n",
    "- $n$: number density of ions\n",
    "- $q$: elementary charge\n",
    "- $D$: diffusion coefficient\n",
    "- $k_B$: Boltzmann constant\n",
    "- $T$: temperature (K)"
   ]
  },
  {
   "cell_type": "code",
   "execution_count": null,
   "id": "707c3167",
   "metadata": {},
   "outputs": [],
   "source": [
    "# Calculate ionic conductivity\n",
    "import scipy.constants as consts\n",
    "N_ion = 3584  # Example: number of Li ions\n",
    "volume = 143800.291  # Å^3, from thermo.out\n",
    "T = 1000  # K\n",
    "vol_cm3 = volume * 1e-24\n",
    "n = N_ion / vol_cm3\n",
    "q = consts.e\n",
    "kB = consts.k\n",
    "D_cm2_s = D * 1e-4  # Convert Å^2/ps to cm^2/s\n",
    "sigma = n * q**2 * D_cm2_s / (kB * T)\n",
    "print(f'Ionic conductivity σ = {sigma:.3e} S/cm')"
   ]
  },
  {
   "cell_type": "markdown",
   "id": "53b36f6b",
   "metadata": {},
   "source": [
    "## Step 6: Estimate Activation Energy\n",
    "Run simulations at multiple temperatures, calculate $igma$ for each, and fit $n(igma T)$ vs $1/T$ to get activation energy $E_a$."
   ]
  },
  {
   "cell_type": "code",
   "execution_count": null,
   "id": "2ae4efe4",
   "metadata": {},
   "outputs": [],
   "source": [
    "# Example: Arrhenius plot for activation energy\n",
    "temps = np.array([1000, 1100, 1200])\n",
    "sigma_Ts = np.array([sigma1, sigma2, sigma3])  # Replace with calculated values\n",
    "x = 1000 / temps\n",
    "y = np.log(sigma_Ts * temps)\n",
    "slope, intercept = np.polyfit(x, y, 1)\n",
    "Ea = -slope * consts.k * 1000 / consts.e\n",
    "print(f'Activation energy Ea = {Ea:.3f} eV')\n",
    "plt.plot(x, y, 'o')\n",
    "plt.plot(x, slope * x + intercept, '-')\n",
    "plt.xlabel('1000/T (1/K)')\n",
    "plt.ylabel('ln(σT)')\n",
    "plt.title('Arrhenius Plot')\n",
    "plt.show()"
   ]
  },
  {
   "cell_type": "markdown",
   "id": "1aae8232",
   "metadata": {},
   "source": [
    "## References\n",
    "- Zihan Yan, Zheyong Fan and Yizhou Zhu, [arXiv:2504.15925](https://doi.org/10.48550/arXiv.2504.15925)\n",
    "- Zihan Yan and Yizhou Zhu, [Chem. Mater. 2024, 36, 23, 11551–11557](https://doi.org/10.1021/acs.chemmater.4c02454)"
   ]
  }
 ],
 "metadata": {
  "language_info": {
   "name": "python"
  }
 },
 "nbformat": 4,
 "nbformat_minor": 5
}
