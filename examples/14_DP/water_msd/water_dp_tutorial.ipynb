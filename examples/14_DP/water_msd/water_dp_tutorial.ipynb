{
 "cells": [
  {
   "cell_type": "markdown",
   "id": "8ab0706d",
   "metadata": {},
   "source": [
    "# Water Diffusion Simulation with Deep Potential (DP) and GPUMD\n",
    "\n",
    "This tutorial demonstrates how to perform molecular dynamics (MD) simulations of water using a Deep Potential (DP) model with GPUMD. The workflow covers model preparation, simulation setup, running GPUMD, and analyzing diffusion properties."
   ]
  },
  {
   "cell_type": "markdown",
   "id": "9e8efdc4",
   "metadata": {},
   "source": [
    "## 1. Objective\n",
    "\n",
    "Simulate water diffusion and compute the self-diffusion coefficient (SDC) using a machine-learned DP model in GPUMD."
   ]
  },
  {
   "cell_type": "markdown",
   "id": "ec56f0ac",
   "metadata": {},
   "source": [
    "## 2. Required Dependencies\n",
    "\n",
    "- Python 3.x (for analysis and plotting)\n",
    "- numpy, matplotlib (for data analysis)\n",
    "- GPUMD (compiled executable)\n",
    "- Deep Potential model file (e.g., `DNN_seed2.pb`)\n",
    "- Input files: `model.xyz`, `dp.txt`, `run.in`\n",
    "\n",
    "**Note:** Training the DP model is not covered here; you need a pre-trained model (`DNN_seed2.pb`)."
   ]
  },
  {
   "cell_type": "markdown",
   "id": "bc5262ed",
   "metadata": {},
   "source": [
    "## 3. Model Preparation\n",
    "\n",
    "- `model.xyz`: Atomic structure of water box.\n",
    "- `dp.txt`: Defines atom types for DP.\n",
    "- `DNN_seed2.pb`: Pre-trained Deep Potential model.\n",
    "\n",
    "These files should be present in the working directory."
   ]
  },
  {
   "cell_type": "code",
   "execution_count": null,
   "id": "4e308115",
   "metadata": {},
   "outputs": [],
   "source": [
    "# Check for required files\n",
    "import os\n",
    "required_files = ['model.xyz', 'dp.txt', 'DNN_seed2.pb', 'run.in']\n",
    "for f in required_files:\n",
    "    print(f, 'exists:' if os.path.exists(f) else 'MISSING')"
   ]
  },
  {
   "cell_type": "markdown",
   "id": "2ac3f6fc",
   "metadata": {},
   "source": [
    "## 4. Simulation Setup\n",
    "\n",
    "The main GPUMD input file is `run.in`. Example content:\n",
    "\n",
    "```plaintext\n",
    "potential       dp.txt DNN_seed2.pb\n",
    "time_step       0.5\n",
    "ensemble        nvt_ber 330 330 100\n",
    "dump_thermo     10\n",
    "dump_exyz       1000\n",
    "run             10000\n",
    "\n",
    "ensemble        nvt_ber 330 330 100\n",
    "compute_sdc     2 5000\n",
    "run             10000\n",
    "```\n",
    "\n",
    "This sets up NVT ensemble runs and computes the self-diffusion coefficient."
   ]
  },
  {
   "cell_type": "markdown",
   "id": "df83b631",
   "metadata": {},
   "source": [
    "## 5. Running GPUMD\n",
    "\n",
    "To run the simulation, use the following command in your shell (PowerShell on Windows):\n",
    "\n",
    "```powershell\n",
    "gpumd.exe > gpumd.out 2>&1\n",
    "```\n",
    "\n",
    "Or use the provided shell script (`sub.sh`) if on Linux/Mac.\n",
    "\n",
    "After completion, output files like `thermo.out` and `sdc.out` will be generated."
   ]
  },
  {
   "cell_type": "markdown",
   "id": "5c7c5030",
   "metadata": {},
   "source": [
    "## 6. Analyzing Results: Self-Diffusion Coefficient (SDC)\n",
    "\n",
    "The file `sdc.out` contains the computed SDC values. Let's plot the SDC vs. time."
   ]
  },
  {
   "cell_type": "code",
   "execution_count": null,
   "id": "79d27b12",
   "metadata": {},
   "outputs": [],
   "source": [
    "import numpy as np\n",
    "import matplotlib.pyplot as plt\n",
    "# Load SDC data\n",
    "data = np.loadtxt('sdc.out')\n",
    "time = data[:,0]\n",
    "sdc = data[:,1:4]  # SDC for x, y, z directions\n",
    "plt.figure(figsize=(8,5))\n",
    "plt.plot(time, sdc[:,0], label='SDC-x')\n",
    "plt.plot(time, sdc[:,1], label='SDC-y')\n",
    "plt.plot(time, sdc[:,2], label='SDC-z')\n",
    "plt.xlabel('Time (ps)')\n",
    "plt.ylabel('SDC (Å^2/ps)')\n",
    "plt.title('Self-Diffusion Coefficient vs. Time')\n",
    "plt.legend()\n",
    "plt.tight_layout()\n",
    "plt.show()"
   ]
  },
  {
   "cell_type": "markdown",
   "id": "5a4c1b51",
   "metadata": {},
   "source": [
    "## 7. Additional Analysis: Thermodynamic Properties\n",
    "\n",
    "The file `thermo.out` contains thermodynamic data (temperature, energy, pressure, etc.). You can plot temperature evolution as follows:"
   ]
  },
  {
   "cell_type": "code",
   "execution_count": null,
   "id": "ec47c317",
   "metadata": {},
   "outputs": [],
   "source": [
    "thermo = np.loadtxt('thermo.out')\n",
    "plt.figure(figsize=(8,5))\n",
    "plt.plot(thermo[:,0], label='Temperature (K)')\n",
    "plt.xlabel('Step')\n",
    "plt.ylabel('Temperature (K)')\n",
    "plt.title('Temperature Evolution')\n",
    "plt.legend()\n",
    "plt.tight_layout()\n",
    "plt.show()"
   ]
  },
  {
   "cell_type": "markdown",
   "id": "370d3282",
   "metadata": {},
   "source": [
    "## 8. Summary\n",
    "\n",
    "This notebook guides you through simulating water diffusion using a Deep Potential model in GPUMD, including setup, execution, and analysis. For further customization, adjust the input files and simulation parameters as needed."
   ]
  }
 ],
 "metadata": {
  "language_info": {
   "name": "python"
  }
 },
 "nbformat": 4,
 "nbformat_minor": 5
}
