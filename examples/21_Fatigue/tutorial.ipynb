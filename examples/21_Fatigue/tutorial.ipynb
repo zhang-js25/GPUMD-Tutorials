{
  "cells": [
    {
      "cell_type": "markdown",
      "id": "2408b75b",
      "metadata": {},
      "source": [
        "**Note:** Before running any code cells, please make sure the files `model.xyz`, `dump.xyz`, and `UNEP-v1-model-with-ZBL.txt` are in the same directory as this notebook. This ensures all structure and potential files can be read successfully after uploading or sharing."
      ]
    },
    {
      "cell_type": "markdown",
      "id": "9414149f",
      "metadata": {
        "language": "markdown"
      },
      "source": [
        "# Fatigue Simulation Tutorial\n",
        "This tutorial demonstrates how to perform uniaxial fatigue simulations using GPUMD, analyzing the structural evolution of materials under cyclic loading.\n",
        "\n",
        "References:\n",
        "1. https://doi.org/10.1063/5.0259061\n",
        "2. Song, K., Zhao, R., Liu, J. et al. General-purpose machine-learned potential for 16 elemental metals and their alloys. Nat Commun 15, 10208 (2024). https://doi.org/10.1038/s41467-024-54554-x"
      ]
    },
    {
      "cell_type": "markdown",
      "id": "4417a2f4",
      "metadata": {
        "language": "markdown"
      },
      "source": [
        "## File Structure and Purpose\n",
        "- `create-run.sh`: Shell script to automatically generate the simulation parameter file `run.in`.\n",
        "- `run.in`: GPUMD input file, defines potential, loading method, output settings, etc.\n",
        "- `UNEP-v1-model-with-ZBL.txt`: Machine-learned potential file describing atomic interactions.\n",
        "- `model.xyz`: Initial structure file containing atom types and coordinates.\n",
        "- `dump.xyz`: Output structure file from the simulation.\n",
        "- `z.sh`: Job submission script (for HPC environments)."
      ]
    },
    {
      "cell_type": "code",
      "execution_count": 1,
      "id": "e6f84a3b",
      "metadata": {
        "language": "python"
      },
      "outputs": [
        {
          "name": "stdout",
          "output_type": "stream",
          "text": [
            "Potential file exists: True\n",
            "Number of atoms: 16000\n",
            "Lattice parameters: Lattice=\"64.0 0.0 0.0 0.0 64.0 0.0 0.0 0.0 64.0\" Properties=species:S:1:pos:R:3 pbc=\"T T T\"\n",
            "First 5 atoms: ['Cu      54.40000000      38.40000000       3.20000000\\n', 'Cu      60.80000000      54.40000000       0.00000000\\n', 'Cu      52.80000000      59.20000000       1.60000000\\n', 'Cu      38.40000000      35.20000000       6.40000000\\n', 'Cu      46.40000000      56.00000000       8.00000000\\n']\n"
          ]
        }
      ],
      "source": [
        "# Read and check the potential file and initial structure\n",
        "potential_file = 'UNEP-v1-model-with-ZBL.txt'\n",
        "structure_file = 'model.xyz'\n",
        "\n",
        "# Check if the potential file exists\n",
        "import os\n",
        "print('Potential file exists:', os.path.exists(potential_file))\n",
        "\n",
        "# Read the initial structure\n",
        "with open(structure_file, 'r') as f:\n",
        "    lines = f.readlines()\n",
        "print('Number of atoms:', lines[0].strip())\n",
        "print('Lattice parameters:', lines[1].strip())\n",
        "print('First 5 atoms:', lines[2:7])"
      ]
    },
    {
      "cell_type": "code",
      "execution_count": 2,
      "id": "043d4cc1",
      "metadata": {
        "language": "python"
      },
      "outputs": [
        {
          "name": "stdout",
          "output_type": "stream",
          "text": [
            "Number of defined cycles: 50\n"
          ]
        }
      ],
      "source": [
        "# Automatically count the number of fatigue cycles in run.in\n",
        "runin_file = 'run.in'\n",
        "with open(runin_file, 'r') as f:\n",
        "    content = f.read()\n",
        "\n",
        "# Example: Count the number of cycles\n",
        "import re\n",
        "cycles = re.findall(r'#cycle \\d+', content)\n",
        "print('Number of defined cycles:', len(cycles))\n",
        "\n",
        "# You can insert new cycle settings as needed"
      ]
    },
    {
      "cell_type": "markdown",
      "id": "d59f9c30",
      "metadata": {
        "language": "markdown"
      },
      "source": [
        "## Run GPUMD Simulation\n",
        "In Linux/WSL/Git Bash, use the following command to run GPUMD:\n",
        "\n",
        "```bash\n",
        "./gpumd run.in\n",
        "```\n",
        "\n",
        "(Make sure GPUMD is installed and the executable is in the current directory or in your PATH)"
      ]
    },
    {
      "cell_type": "code",
      "execution_count": 3,
      "id": "95373cd2",
      "metadata": {
        "language": "python"
      },
      "outputs": [
        {
          "name": "stdout",
          "output_type": "stream",
          "text": [
            "Number of atoms for each element: {'Time=0.00000000': 1, 'Cu': 2352, 'Mo': 84000, 'Ta': 99456, 'V': 57120, 'W': 93072, 'Time=10000.00000000': 1, 'Time=20000.00000000': 1, 'Time=29999.99999999': 1, 'Time=39999.99999999': 1, 'Time=50000.00000000': 1, 'Time=60000.00000001': 1, 'Time=70000.00000003': 1, 'Time=80000.00000004': 1, 'Time=90000.00000006': 1, 'Time=100000.00000007': 1, 'Time=110000.00000009': 1, 'Time=120000.00000010': 1, 'Time=130000.00000012': 1, 'Time=140000.00000013': 1, 'Time=150000.00000015': 1, 'Time=160000.00000016': 1, 'Time=170000.00000015': 1, 'Time=180000.00000007': 1, 'Time=189999.99999999': 1, 'Time=199999.99999991': 1}\n"
          ]
        }
      ],
      "source": [
        "# Analyze dump.xyz output structure (Example: count atom types)\n",
        "dump_file = 'dump.xyz'\n",
        "species_count = {}\n",
        "with open(dump_file, 'r') as f:\n",
        "    for line in f:\n",
        "        if line.startswith(('Cu', 'Mo', 'Al', 'Cr', 'Ni', 'Zr', 'Ag', 'Au', 'Mg', 'Pb', 'Pd', 'Pt', 'Ta', 'Ti', 'V', 'W')):\n",
        "            sp = line.split()[0]\n",
        "            species_count[sp] = species_count.get(sp, 0) + 1\n",
        "print('Number of atoms for each element:', species_count)"
      ]
    },
    {
      "cell_type": "markdown",
      "id": "129f96c2",
      "metadata": {},
      "source": [
        "install ase as dependency\n",
        "\n",
        "!pip install ase"
      ]
    },
    {
      "cell_type": "code",
      "execution_count": 7,
      "id": "79aa3060",
      "metadata": {},
      "outputs": [
        {
          "name": "stdout",
          "output_type": "stream",
          "text": [
            "Collecting ase\n",
            "  Downloading ase-3.26.0-py3-none-any.whl.metadata (4.1 kB)\n",
            "Requirement already satisfied: numpy>=1.19.5 in d:\\programs\\anaconda\\lib\\site-packages (from ase) (2.1.3)\n",
            "Requirement already satisfied: scipy>=1.6.0 in d:\\programs\\anaconda\\lib\\site-packages (from ase) (1.15.3)\n",
            "Requirement already satisfied: matplotlib>=3.3.4 in d:\\programs\\anaconda\\lib\\site-packages (from ase) (3.10.0)\n",
            "Requirement already satisfied: contourpy>=1.0.1 in d:\\programs\\anaconda\\lib\\site-packages (from matplotlib>=3.3.4->ase) (1.3.1)\n",
            "Requirement already satisfied: cycler>=0.10 in d:\\programs\\anaconda\\lib\\site-packages (from matplotlib>=3.3.4->ase) (0.11.0)\n",
            "Requirement already satisfied: fonttools>=4.22.0 in d:\\programs\\anaconda\\lib\\site-packages (from matplotlib>=3.3.4->ase) (4.55.3)\n",
            "Requirement already satisfied: kiwisolver>=1.3.1 in d:\\programs\\anaconda\\lib\\site-packages (from matplotlib>=3.3.4->ase) (1.4.8)\n",
            "Requirement already satisfied: packaging>=20.0 in d:\\programs\\anaconda\\lib\\site-packages (from matplotlib>=3.3.4->ase) (24.2)\n",
            "Requirement already satisfied: pillow>=8 in d:\\programs\\anaconda\\lib\\site-packages (from matplotlib>=3.3.4->ase) (11.1.0)\n",
            "Requirement already satisfied: pyparsing>=2.3.1 in d:\\programs\\anaconda\\lib\\site-packages (from matplotlib>=3.3.4->ase) (3.2.0)\n",
            "Requirement already satisfied: python-dateutil>=2.7 in d:\\programs\\anaconda\\lib\\site-packages (from matplotlib>=3.3.4->ase) (2.9.0.post0)\n",
            "Requirement already satisfied: six>=1.5 in d:\\programs\\anaconda\\lib\\site-packages (from python-dateutil>=2.7->matplotlib>=3.3.4->ase) (1.17.0)\n",
            "Downloading ase-3.26.0-py3-none-any.whl (2.9 MB)\n",
            "   ---------------------------------------- 0.0/2.9 MB ? eta -:--:--\n",
            "   ---------------------------------------- 0.0/2.9 MB ? eta -:--:--\n",
            "   ---------------------------------------- 0.0/2.9 MB ? eta -:--:--\n",
            "   --- ------------------------------------ 0.3/2.9 MB ? eta -:--:--\n",
            "   ------- -------------------------------- 0.5/2.9 MB 1.3 MB/s eta 0:00:02\n",
            "   ---------- ----------------------------- 0.8/2.9 MB 1.4 MB/s eta 0:00:02\n",
            "   ----------------- ---------------------- 1.3/2.9 MB 1.6 MB/s eta 0:00:02\n",
            "   --------------------- ------------------ 1.6/2.9 MB 1.7 MB/s eta 0:00:01\n",
            "   -------------------------------- ------- 2.4/2.9 MB 1.9 MB/s eta 0:00:01\n",
            "   ---------------------------------------  2.9/2.9 MB 2.0 MB/s eta 0:00:01\n",
            "   ---------------------------------------- 2.9/2.9 MB 2.0 MB/s eta 0:00:00\n",
            "Installing collected packages: ase\n",
            "Successfully installed ase-3.26.0\n"
          ]
        }
      ],
      "source": [
        "!pip install ase"
      ]
    },
    {
      "cell_type": "code",
      "execution_count": 8,
      "id": "56e2330e",
      "metadata": {
        "language": "python"
      },
      "outputs": [
        {
          "data": {
            "image/png": "[encoded data removed]",
            "text/plain": [
              "<Figure size 640x480 with 1 Axes>"
            ]
          },
          "metadata": {},
          "output_type": "display_data"
        }
      ],
      "source": [
        "# Visualize atomic structure (requires ase and matplotlib)\n",
        "from ase.io import read\n",
        "import matplotlib.pyplot as plt\n",
        "\n",
        "atoms = read('model.xyz')\n",
        "positions = atoms.get_positions()\n",
        "plt.scatter(positions[:,0], positions[:,1], s=10)\n",
        "plt.xlabel('X')\n",
        "plt.ylabel('Y')\n",
        "plt.title('Initial Structure Projection')\n",
        "plt.show()"
      ]
    }
  ],
  "metadata": {
    "kernelspec": {
      "display_name": "base",
      "language": "python",
      "name": "python3"
    },
    "language_info": {
      "codemirror_mode": {
        "name": "ipython",
        "version": 3
      },
      "file_extension": ".py",
      "mimetype": "text/x-python",
      "name": "python",
      "nbconvert_exporter": "python",
      "pygments_lexer": "ipython3",
      "version": "3.13.5"
    }
  },
  "nbformat": 4,
  "nbformat_minor": 5
}
