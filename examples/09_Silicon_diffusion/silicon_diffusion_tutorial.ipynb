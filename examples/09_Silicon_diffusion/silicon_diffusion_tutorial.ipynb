{
 "cells": [
  {
   "cell_type": "markdown",
   "id": "821706d5",
   "metadata": {},
   "source": [
    "# Silicon Diffusion Simulation Tutorial\n",
    "This notebook provides a step-by-step guide for simulating and analyzing the diffusion process of silicon using GPUMD. It covers input preparation, NEP training, model generation, simulation setup, and data analysis."
   ]
  },
  {
   "cell_type": "markdown",
   "id": "58bab266",
   "metadata": {},
   "source": [
    "## Required Dependencies\n",
    "- Python 3.x\n",
    "- numpy\n",
    "- matplotlib\n",
    "- GPUMD (for MD simulation)\n",
    "- NEP (for potential training, if needed)\n",
    "\n",
    "Install Python packages with:\n",
    "```python\n",
    "!pip install numpy matplotlib\n",
    "```\n",
    "GPUMD: [https://gpumd.org/](https://gpumd.org/)\n",
    "NEP: [https://github.com/zhyan0603/NEP](https://github.com/zhyan0603/NEP)"
   ]
  },
  {
   "cell_type": "markdown",
   "id": "a3162d2d",
   "metadata": {},
   "source": [
    "## Step 1: Generate Atomic Structure\n",
    "You can use the provided MATLAB script (`create_xyz.m`) to generate a silicon supercell in `model.xyz`.\n",
    "Alternatively, use Python or ASE to generate the structure."
   ]
  },
  {
   "cell_type": "code",
   "execution_count": null,
   "id": "ea242b3f",
   "metadata": {},
   "outputs": [],
   "source": [
    "# Example: Generate silicon supercell with ASE\n",
    "from ase.build import bulk\n",
    "from ase.io import write\n",
    "si = bulk('Si', 'diamond', a=5.43)\n",
    "supercell = si.repeat((10, 10, 10))\n",
    "write('model.xyz', supercell)"
   ]
  },
  {
   "cell_type": "markdown",
   "id": "cfcabb86",
   "metadata": {},
   "source": [
    "## Step 2: NEP Potential Training (if needed)\n",
    "If you need to train a NEP model, use the NEP package and your training dataset. Example training command:\n",
    "```bash\n",
    "nep train --input training_data.extxyz --output Si_2022_NEP3_3body.txt\n",
    "```\n",
    "For this tutorial, a pre-trained NEP file is provided."
   ]
  },
  {
   "cell_type": "code",
   "execution_count": null,
   "id": "81b001cb",
   "metadata": {},
   "outputs": [],
   "source": [
    "# Check input files\n",
    "import os\n",
    "for fname in ['model.xyz', 'run.in', 'Si_2022_NEP3_3body.txt']:\n",
    "    print(f'{fname}:', 'Found' if os.path.exists(fname) else 'Missing')"
   ]
  },
  {
   "cell_type": "markdown",
   "id": "fa96bbef",
   "metadata": {},
   "source": [
    "## Step 3: GPUMD Simulation Setup\n",
    "The `run.in` file configures the MD simulation. Example:\n",
    "```\n",
    "```bash\n",
    "gpumd\n",
    "```\n",
    "This generates `msd.out`, `sdc.out`, and other output files."
   ]
  },
  {
   "cell_type": "markdown",
   "id": "db5afab9",
   "metadata": {},
   "source": [
    "## Step 4: Analyze Diffusion Data\n",
    "The `msd.out` file contains mean squared displacement (MSD) data. The `sdc.out` file contains self-diffusion coefficient (SDC) data. You can use Python to read and plot these quantities."
   ]
  },
  {
   "cell_type": "code",
   "execution_count": null,
   "id": "720002b6",
   "metadata": {},
   "outputs": [],
   "source": [
    "# Example: Plot MSD and SDC from output files\n",
    "import numpy as np\n",
    "import matplotlib.pyplot as plt\n",
    "msd_data = np.loadtxt('/opt/GPUMD/examples/09/msd.out')\n",
    "time = msd_data[:, 0]\n",
    "msd = msd_data[:, 1:4].sum(axis=1)\n",
    "plt.plot(time, msd)\n",
    "plt.xlabel('Time (ps)')\n",
    "plt.ylabel('MSD (Å$^2$)')\n",
    "plt.title('Mean Squared Displacement of Si')\n",
    "plt.show()\n",
    "if os.path.exists('sdc.out'):\n",
    "    sdc_data = np.loadtxt('sdc.out')\n",
    "    time_sdc = sdc_data[:, 0]\n",
    "    sdc = sdc_data[:, 1:4].sum(axis=1)\n",
    "    plt.plot(time_sdc, sdc)\n",
    "    plt.xlabel('Time (ps)')\n",
    "    plt.ylabel('SDC (Å$^2$/ps)')\n",
    "    plt.title('Self-Diffusion Coefficient of Si')\n",
    "    plt.show()"
   ]
  },
  {
   "cell_type": "markdown",
   "id": "58f2fad1",
   "metadata": {},
   "source": [
    "## Reference\n",
    "For details on the method and further reading, see the GPUMD documentation: [https://gpumd.org/](https://gpumd.org/)"
   ]
  }
 ],
 "metadata": {
  "language_info": {
   "name": "python"
  }
 },
 "nbformat": 4,
 "nbformat_minor": 5
}
