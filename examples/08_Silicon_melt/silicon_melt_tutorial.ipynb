{
 "cells": [
  {
   "cell_type": "markdown",
   "id": "f1500dfd",
   "metadata": {},
   "source": [
    "# Silicon Melting Simulation Tutorial\n",
    "This notebook provides a step-by-step guide for simulating and analyzing the melting process of silicon using GPUMD. It covers input preparation, NEP training, model generation, simulation setup, and data analysis."
   ]
  },
  {
   "cell_type": "markdown",
   "id": "04974674",
   "metadata": {},
   "source": [
    "## Required Dependencies\n",
    "- Python 3.x\n",
    "- numpy\n",
    "- matplotlib\n",
    "- GPUMD (for MD simulation)\n",
    "- NEP (for potential training, if needed)\n",
    "\n",
    "Install Python packages with:\n",
    "```python\n",
    "!pip install numpy matplotlib\n",
    "```\n",
    "GPUMD: [https://gpumd.org/](https://gpumd.org/)\n",
    "NEP: [https://github.com/zhyan0603/NEP](https://github.com/zhyan0603/NEP)"
   ]
  },
  {
   "cell_type": "markdown",
   "id": "b166b7b0",
   "metadata": {},
   "source": [
    "## Step 1: Generate Atomic Structure\n",
    "You can use the provided MATLAB script (`create_xyz.m`) to generate a silicon supercell in `model.xyz`.\n",
    "Alternatively, use Python or ASE to generate the structure."
   ]
  },
  {
   "cell_type": "code",
   "execution_count": null,
   "id": "18874ae6",
   "metadata": {},
   "outputs": [],
   "source": [
    "# Example: Generate silicon supercell with ASE\n",
    "from ase.build import bulk\n",
    "from ase.io import write\n",
    "si = bulk('Si', 'diamond', a=5.43)\n",
    "supercell = si.repeat((10, 10, 10))\n",
    "write('model.xyz', supercell)"
   ]
  },
  {
   "cell_type": "markdown",
   "id": "4495477a",
   "metadata": {},
   "source": [
    "## Step 2: NEP Potential Training (if needed)\n",
    "If you need to train a NEP model, use the NEP package and your training dataset. Example training command:\n",
    "```bash\n",
    "nep train --input training_data.extxyz --output Si_2022_NEP3_3body.txt\n",
    "```\n",
    "For this tutorial, a pre-trained NEP file is provided."
   ]
  },
  {
   "cell_type": "code",
   "execution_count": null,
   "id": "8d902aca",
   "metadata": {},
   "outputs": [],
   "source": [
    "# Check input files\n",
    "import os\n",
    "for fname in ['/opt/GPUMD/examples/08/model.xyz', '/opt/GPUMD/examples/08/run.in', '/opt/GPUMD/GPUMD/potentials/nep/Si_2022_NEP3_3body.txt']:\n",
    "    print(f'{fname}:', 'Found' if os.path.exists(fname) else 'Missing')"
   ]
  },
  {
   "cell_type": "markdown",
   "id": "c08f3a74",
   "metadata": {},
   "source": [
    "## Step 3: GPUMD Simulation Setup\n",
    "The `run.in` file configures the MD simulation. Example:\n",
    "```\n",
    "```bash\n",
    "gpumd\n",
    "```\n",
    "This generates `thermo.out` and other output files."
   ]
  },
  {
   "cell_type": "markdown",
   "id": "915f9113",
   "metadata": {},
   "source": [
    "## Step 4: Analyze Thermodynamic Output\n",
    "The `thermo.out` file contains thermodynamic properties. You can use Python to read and plot temperature and pressure."
   ]
  },
  {
   "cell_type": "code",
   "execution_count": null,
   "id": "3ad9f8b9",
   "metadata": {},
   "outputs": [],
   "source": [
    "# Example: Plot temperature and pressure from thermo.out\n",
    "import numpy as np\n",
    "import matplotlib.pyplot as plt\n",
    "data = np.loadtxt('/opt/GPUMD/examples/08/thermo.out')\n",
    "time = np.arange(len(data)) / 5  # Example: convert steps to ps\n",
    "temperature = data[:, 0]\n",
    "pressure_x = data[:, 3]\n",
    "pressure_y = data[:, 4]\n",
    "pressure_z = data[:, 5]\n",
    "plt.figure(figsize=(10,4))\n",
    "plt.subplot(1,2,1)\n",
    "plt.plot(time, temperature)\n",
    "plt.xlabel('Time (ps)')\n",
    "plt.ylabel('Temperature (K)')\n",
    "plt.title('Temperature Evolution')\n",
    "plt.subplot(1,2,2)\n",
    "plt.plot(time, pressure_x, label='x')\n",
    "plt.plot(time, pressure_y, label='y')\n",
    "plt.plot(time, pressure_z, label='z')\n",
    "plt.xlabel('Time (ps)')\n",
    "plt.ylabel('Pressure (GPa)')\n",
    "plt.title('Pressure Evolution')\n",
    "plt.legend()\n",
    "plt.tight_layout()\n",
    "plt.show()"
   ]
  },
  {
   "cell_type": "markdown",
   "id": "df56c858",
   "metadata": {},
   "source": [
    "## Reference\n",
    "For details on the method and further reading, see the GPUMD documentation: [https://gpumd.org/](https://gpumd.org/)"
   ]
  }
 ],
 "metadata": {
  "language_info": {
   "name": "python"
  }
 },
 "nbformat": 4,
 "nbformat_minor": 5
}
