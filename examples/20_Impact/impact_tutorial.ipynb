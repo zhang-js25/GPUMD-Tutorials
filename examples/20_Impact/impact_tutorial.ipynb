{
 "cells": [
  {
   "cell_type": "markdown",
   "id": "086a7940",
   "metadata": {},
   "source": [
    "# Impact Simulation Tutorial\n",
    "This tutorial demonstrates how to perform impact simulations using the 'momentum mirror' method in GPUMD, including structure preparation, parameter setup, and analysis.\n",
    "\n",
    "References:\n",
    "1. https://doi.org/10.1063/5.0259061\n",
    "2. https://doi.org/10.1038/s41467-024-54554-x"
   ]
  },
  {
   "cell_type": "markdown",
   "id": "467247b8",
   "metadata": {},
   "source": [
    "**Note:** Before running any code cells, please make sure the files `model.xyz`, `dump.C1.xyz`, `run.in`, and `UNEP-v1-model-with-ZBL.txt` are in the same directory as this notebook."
   ]
  },
  {
   "cell_type": "markdown",
   "id": "4c69f08f",
   "metadata": {},
   "source": [
    "## File Structure and Purpose\n",
    "- `0bak/`: Initial polycrystalline structure modeling and atom substitution for alloy composition.\n",
    "- `1impact/`: Structure modification and impact simulation using the momentum mirror method.\n",
    "- `dump.C1.xyz`: Initial structure file from `0bak/2replace/poly.xyz`.\n",
    "- `model.xyz`: Modified structure file for impact simulation (group assignment, boundary conditions).\n",
    "- `run.in`: GPUMD input file, includes isothermal equilibration and impact settings.\n",
    "- `UNEP-v1-model-with-ZBL.txt`: Machine-learned potential file for atomic interactions."
   ]
  },
  {
   "cell_type": "code",
   "execution_count": null,
   "id": "3fc923fe",
   "metadata": {},
   "outputs": [],
   "source": [
    "# Check if required files exist\n",
    "import os\n",
    "for fname in ['model.xyz', 'dump.C1.xyz', 'run.in', 'UNEP-v1-model-with-ZBL.txt']:\n",
    "    print(f'{fname} exists:', os.path.exists(fname))"
   ]
  },
  {
   "cell_type": "code",
   "execution_count": null,
   "id": "74b333eb",
   "metadata": {},
   "outputs": [],
   "source": [
    "# Read and inspect the initial structure\n",
    "with open('dump.C1.xyz', 'r') as f:\n",
    "    lines = f.readlines()\n",
    "print('Number of atoms:', lines[0].strip())\n",
    "print('Lattice parameters:', lines[1].strip())\n",
    "print('First 5 atoms:', lines[2:7])"
   ]
  },
  {
   "cell_type": "code",
   "execution_count": null,
   "id": "e4583ade",
   "metadata": {},
   "outputs": [],
   "source": [
    "# Read and inspect the modified structure for impact\n",
    "with open('model.xyz', 'r') as f:\n",
    "    lines = f.readlines()\n",
    "print('Number of atoms:', lines[0].strip())\n",
    "print('Lattice parameters:', lines[1].strip())\n",
    "print('First 5 atoms:', lines[2:7])"
   ]
  },
  {
   "cell_type": "code",
   "execution_count": null,
   "id": "a55ef5e9",
   "metadata": {},
   "outputs": [],
   "source": [
    "# Analyze run.in file for impact settings\n",
    "with open('run.in', 'r') as f:\n",
    "    content = f.read()\n",
    "print('First 20 lines of run.in:')\n",
    "print('\n",
    "'.join(content.splitlines()[:20]))"
   ]
  },
  {
   "cell_type": "markdown",
   "id": "854cfb67",
   "metadata": {},
   "source": [
    "## Run GPUMD Simulation\n",
    "In Linux/WSL/Git Bash, use the following command to run GPUMD:\n",
    "\n",
    "```bash\n",
    "./gpumd run.in\n",
    "```\n",
    "\n",
    "(Make sure GPUMD is installed and the executable is in the current directory or in your PATH)"
   ]
  },
  {
   "cell_type": "code",
   "execution_count": null,
   "id": "71160ae8",
   "metadata": {},
   "outputs": [],
   "source": [
    "# Visualize the initial structure (requires ase and matplotlib)\n",
    "from ase.io import read\n",
    "import matplotlib.pyplot as plt\n",
    "\n",
    "atoms = read('model.xyz')\n",
    "positions = atoms.get_positions()\n",
    "plt.scatter(positions[:,0], positions[:,1], s=10)\n",
    "plt.xlabel('X')\n",
    "plt.ylabel('Y')\n",
    "plt.title('Initial Structure Projection')\n",
    "plt.show()"
   ]
  }
 ],
 "metadata": {
  "language_info": {
   "name": "python"
  }
 },
 "nbformat": 4,
 "nbformat_minor": 5
}
