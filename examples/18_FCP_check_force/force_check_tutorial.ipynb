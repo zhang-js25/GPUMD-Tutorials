{
 "cells": [
  {
   "cell_type": "markdown",
   "id": "ea71d3fb",
   "metadata": {},
   "source": [
    "# Force Consistency Check Tutorial\n",
    "This example demonstrates how to check the consistency of atomic forces calculated by GPUMD (using the FCP potential) and compare them with forces from another code (e.g., hiphive).\n",
    "\n",
    "## Purpose\n",
    "- To verify that the forces computed by GPUMD using the FCP potential are consistent with those from other codes (such as hiphive).\n",
    "- This is important for validating the implementation of force fields and ensuring reliable molecular dynamics simulations."
   ]
  },
  {
   "cell_type": "markdown",
   "id": "561215a9",
   "metadata": {},
   "source": [
    "## File Structure and Description\n",
    "- `model.xyz`: Atomic structure file (Al atoms, positions, mass, group info).\n",
    "- `run.in`: GPUMD input file, sets up the FCP potential and requests a single force calculation (no dynamics).\n",
    "- `force.out`: Forces calculated by GPUMD for each atom (3 columns per atom: Fx, Fy, Fz).\n",
    "- `forces_hiphive.txt`: Forces calculated by hiphive for the same structure (for comparison)."
   ]
  },
  {
   "cell_type": "code",
   "execution_count": null,
   "id": "3134c6b9",
   "metadata": {},
   "outputs": [],
   "source": [
    "# Check if required files exist\n",
    "import os\n",
    "for fname in ['model.xyz', 'run.in', 'force.out', 'forces_hiphive.txt']:\n",
    "    print(f'{fname} exists:', os.path.exists(fname))"
   ]
  },
  {
   "cell_type": "markdown",
   "id": "c39a8096",
   "metadata": {},
   "source": [
    "## Inspect the Structure File\n",
    "Let's look at the first few lines of `model.xyz` to understand the atomic configuration."
   ]
  },
  {
   "cell_type": "code",
   "execution_count": null,
   "id": "e4cf5009",
   "metadata": {},
   "outputs": [],
   "source": [
    "with open('model.xyz', 'r') as f:\n",
    "    lines = f.readlines()\n",
    "print('Number of atoms:', lines[0].strip())\n",
    "print('Lattice and properties:', lines[1].strip())\n",
    "print('First 5 atoms:', lines[2:7])"
   ]
  },
  {
   "cell_type": "markdown",
   "id": "017c36fe",
   "metadata": {},
   "source": [
    "## Inspect the GPUMD Input File\n",
    "The `run.in` file sets up the FCP potential and requests a single force calculation."
   ]
  },
  {
   "cell_type": "code",
   "execution_count": null,
   "id": "a60ccfb5",
   "metadata": {},
   "outputs": [],
   "source": [
    "with open('run.in', 'r') as f:\n",
    "    print(f.read())"
   ]
  },
  {
   "cell_type": "markdown",
   "id": "ce6deffe",
   "metadata": {},
   "source": [
    "## Compare Forces\n",
    "We will load the forces from GPUMD (`force.out`) and hiphive (`forces_hiphive.txt`) and compare them."
   ]
  },
  {
   "cell_type": "code",
   "execution_count": null,
   "id": "f90ed9bd",
   "metadata": {},
   "outputs": [],
   "source": [
    "import numpy as np\n",
    "gpumd_forces = np.loadtxt('force.out')\n",
    "hiphive_forces = np.loadtxt('forces_hiphive.txt')\n",
    "print('GPUMD forces shape:', gpumd_forces.shape)\n",
    "print('hiphive forces shape:', hiphive_forces.shape)"
   ]
  },
  {
   "cell_type": "code",
   "execution_count": null,
   "id": "9518f0e2",
   "metadata": {},
   "outputs": [],
   "source": [
    "# Calculate the difference between GPUMD and hiphive forces\n",
    "force_diff = gpumd_forces - hiphive_forces\n",
    "max_diff = np.abs(force_diff).max()\n",
    "print(f'Maximum absolute difference between GPUMD and hiphive forces: {max_diff:.3e}')"
   ]
  },
  {
   "cell_type": "code",
   "execution_count": null,
   "id": "af8b7bfa",
   "metadata": {},
   "outputs": [],
   "source": [
    "# Optionally, plot the force comparison for visual inspection\n",
    "import matplotlib.pyplot as plt\n",
    "plt.figure(figsize=(8,4))\n",
    "plt.plot(gpumd_forces.flatten(), 'o', label='GPUMD')\n",
    "plt.plot(hiphive_forces.flatten(), 'x', label='hiphive')\n",
    "plt.xlabel('Component Index')\n",
    "plt.ylabel('Force (eV/Å)')\n",
    "plt.legend()\n",
    "plt.title('Force Comparison: GPUMD vs hiphive')\n",
    "plt.tight_layout()\n",
    "plt.show()"
   ]
  },
  {
   "cell_type": "markdown",
   "id": "869bd65c",
   "metadata": {},
   "source": [
    "## Summary\n",
    "If the maximum difference is very small, the force field implementation in GPUMD is consistent with hiphive. This validates the force calculation and ensures reliable MD simulations."
   ]
  }
 ],
 "metadata": {
  "language_info": {
   "name": "python"
  }
 },
 "nbformat": 4,
 "nbformat_minor": 5
}
