{
 "cells": [
  {
   "cell_type": "markdown",
   "id": "08d00815",
   "metadata": {},
   "source": [
    "# Carbon Properties Simulation Tutorial\n",
    "\n",
    "This notebook provides a step-by-step guide for simulating and analyzing key properties of carbon (graphene/diamond) using GPUMD. It covers lattice constant, elastic constants, density of states (DOS), and quenching processes."
   ]
  },
  {
   "cell_type": "markdown",
   "id": "c3db1571",
   "metadata": {},
   "source": [
    "## 1. Objective\n",
    "\n",
    "- Calculate the lattice constant and elastic constants of carbon.\n",
    "- Compute the phonon density of states (DOS) using velocity auto-correlation.\n",
    "- Demonstrate quenching simulation.\n",
    "        "
   ]
  },
  {
   "cell_type": "markdown",
   "id": "e141b3c7",
   "metadata": {},
   "source": [
    "## 2. Required Dependencies\n",
    "\n",
    "- Python 3.x\n",
    "- numpy\n",
    "- matplotlib\n",
    "- ASE (Atomic Simulation Environment)\n",
    "- GPUMD (for MD simulation)\n",
    "markdown\n",
    "markdown\n",
    "## 8. Diffusion Coefficient Calculation\n",
    "\n",
    "Diffusion coefficient is calculated using the `compute_sdc` command in GPUMD. The output file `sdc.out` contains the time evolution of the self-diffusion coefficient at different temperatures.\n",
    "code\n",
    "python\n",
    "# Example: Plot diffusion coefficient at 5000K\n",
    "sdc_data = np.loadtxt('D_Diffusion_Coefficient/5000K/sdc.out')\n",
    "time = sdc_data[:,0]\n",
    "sdc = sdc_data[:,1:4].mean(axis=1)\n",
    "plt.plot(time, sdc)\n",
    "plt.xlabel('Time (ps)')\n",
    "plt.ylabel('Self-Diffusion Coefficient (Å²/ps)')\n",
    "plt.title('Diffusion Coefficient at 5000K')\n",
    "plt.show()\n",
    "markdown\n",
    "markdown\n",
    "## 9. Thermal Conductivity Calculation\n",
    "\n",
    "Thermal conductivity is calculated using the HNEMD and SHC methods in GPUMD. The output file `shc_results.txt` contains the running thermal conductivity.\n",
    "code\n",
    "python\n",
    "# Example: Plot thermal conductivity\n",
    "shc_data = np.loadtxt('F_Thermal_Conductivity/shc_results.txt')\n",
    "time = shc_data[:,0]\n",
    "kappa = shc_data[:,1]\n",
    "plt.plot(time, kappa)\n",
    "plt.xlabel('Time (ns)')\n",
    "plt.ylabel('Thermal Conductivity (W/mK)')\n",
    "plt.title('Thermal Conductivity vs. Time')\n",
    "plt.show()\n",
    "markdown\n",
    "markdown\n",
    "## 10. Uniaxial Tension Simulation\n",
    "\n",
    "Uniaxial tension is performed using the `deform` command in GPUMD. The stress-strain curve can be analyzed from the output files.\n",
    "code\n",
    "python\n",
    "# Example: Plot stress-strain curve\n",
    "# Replace 'stress_strain.out' with the actual output file name\n",
    "if os.path.exists('G_Uniaxial_Tension/Run/stress_strain.out'):\n",
    "    ss_data = np.loadtxt('G_Uniaxial_Tension/Run/stress_strain.out')\n",
    "    strain = ss_data[:,0]\n",
    "    stress = ss_data[:,1]\n",
    "    plt.plot(strain, stress)\n",
    "    plt.xlabel('Strain')\n",
    "    plt.ylabel('Stress (GPa)')\n",
    "    plt.title('Stress-Strain Curve (Uniaxial Tension)')\n",
    "    plt.show()\n",
    "else:\n",
    "    print('stress_strain.out not found. Please run GPUMD uniaxial tension simulation.')\n",
    "\n",
    "Install Python packages with:\n",
    "```python\n",
    "!pip install numpy matplotlib ase\n",
    "```\n",
    "GPUMD: [https://gpumd.org/](https://gpumd.org/)"
   ]
  },
  {
   "cell_type": "markdown",
   "id": "953ed0ff",
   "metadata": {},
   "source": [
    "## 3. Lattice Constant Calculation\n",
    "\n",
    "The lattice constant is calculated by running GPUMD with the following input file (`run.in`):\n",
    "\n",
    "```plaintext\n",
    "potential         ../../../potentials/nep/C_2022_NEP3.txt\n",
    "compute_cohesive  0.98 1.03 51\n",
    "```\n",
    "\n",
    "This scans the lattice constant from 0.98 to 1.03 times the reference value in 51 steps."
   ]
  },
  {
   "cell_type": "code",
   "execution_count": null,
   "id": "e0e745d0",
   "metadata": {},
   "outputs": [],
   "source": [
    "# Example: Visualize cohesive energy vs. lattice constant\n",
    "import numpy as np\n",
    "import matplotlib.pyplot as plt\n",
    "data = np.loadtxt('A_lattice_constant/cohesive.out')  # Columns: a, E_cohesive\n",
    "plt.plot(data[:,0], data[:,1], marker='o')\n",
    "plt.xlabel('Lattice Constant (Å)')\n",
    "plt.ylabel('Cohesive Energy (eV/atom)')\n",
    "plt.title('Cohesive Energy vs. Lattice Constant')\n",
    "plt.grid(True)\n",
    "plt.show()"
   ]
  },
  {
   "cell_type": "markdown",
   "id": "f7af3195",
   "metadata": {},
   "source": [
    "## 4. Elastic Constants Calculation\n",
    "\n",
    "Elastic constants are calculated using the following input file (`run.in`):\n",
    "\n",
    "```plaintext\n",
    "potential  ../../../potentials/nep/C_2022_NEP3.txt\n",
    "compute_elastic  0.01 cubic\n",
    "```\n",
    "\n",
    "This applies small strains and computes the elastic constants for cubic symmetry."
   ]
  },
  {
   "cell_type": "code",
   "execution_count": null,
   "id": "e97dbe89",
   "metadata": {},
   "outputs": [],
   "source": [
    "# Example: Read and display elastic constants\n",
    "elastic = np.loadtxt('B_elastic_constants/elastic.out')\n",
    "print('Elastic constants (GPa):')\n",
    "print(elastic)"
   ]
  },
  {
   "cell_type": "markdown",
   "id": "87c529e7",
   "metadata": {},
   "source": [
    "## 5. Phonon Density of States (DOS) Calculation\n",
    "\n",
    "DOS is calculated from the velocity auto-correlation function (VAC) using GPUMD.\n",
    "The workflow is:\n",
    "- Generate atomic structure (e.g., graphene nanoribbon) with ASE.\n",
    "- Prepare GPUMD input files.\n",
    "- Run GPUMD to obtain `dos.out` and `mvac.out`.\n",
    "        "
   ]
  },
  {
   "cell_type": "code",
   "execution_count": null,
   "id": "f18dcebf",
   "metadata": {},
   "outputs": [],
   "source": [
    "from ase.build import graphene_nanoribbon\n",
    "from ase.io import write\n",
    "gnr = graphene_nanoribbon(60, 36, type='armchair', sheet=True, vacuum=3.35/2, C_C=1.44)\n",
    "gnr.euler_rotate(theta=90)\n",
    "l = gnr.cell.lengths()\n",
    "gnr.cell = gnr.cell.new((l[0], l[2], l[1]))\n",
    "l = l[2]\n",
    "gnr.center()\n",
    "gnr.pbc = [True, True, False]\n",
    "write('model.xyz', gnr)"
   ]
  },
  {
   "cell_type": "markdown",
   "id": "daafc31a",
   "metadata": {},
   "source": [
    "## 6. Quenching Simulation\n",
    "\n",
    "Quenching can be performed by running GPUMD with a temperature ramp in the input file.\n",
    "        "
   ]
  },
  {
   "cell_type": "code",
   "execution_count": null,
   "id": "3db5a9fe",
   "metadata": {},
   "outputs": [],
   "source": [
    "# Example: Visualize temperature evolution during quenching\n",
    "quench_data = np.loadtxt('C_quenching/thermo.out')\n",
    "plt.plot(quench_data[:,0], quench_data[:,1])\n",
    "plt.xlabel('Time (fs)')\n",
    "plt.ylabel('Temperature (K)')\n",
    "plt.title('Temperature Evolution During Quenching')\n",
    "plt.show()"
   ]
  },
  {
   "cell_type": "markdown",
   "id": "6e99bf3a",
   "metadata": {},
   "source": [
    "## 7. Results Visualization: DOS and VAC\n",
    "\n",
    "Load and plot the DOS and VAC results from GPUMD output files."
   ]
  },
  {
   "cell_type": "code",
   "execution_count": null,
   "id": "1f239de6",
   "metadata": {},
   "outputs": [],
   "source": [
    "dos_array = np.loadtxt('D_DOS/dos.out')\n",
    "dos = {}\n",
    "dos['omega'], dos['DOSx'], dos['DOSy'], dos['DOSz'] = dos_array[:,0], dos_array[:,1], dos_array[:,2], dos_array[:,3]\n",
    "dos['DOSxyz'] = dos['DOSx'] + dos['DOSy'] + dos['DOSz']\n",
    "dos['nu'] = dos['omega'] / (2 * np.pi)\n",
    "vac_array = np.loadtxt('D_DOS/mvac.out')\n",
    "vac = {}\n",
    "vac['t'], vac['VACx'], vac['VACy'], vac['VACz'] = vac_array[:,0], vac_array[:,1], vac_array[:,2], vac_array[:,3]\n",
    "vac['VACxyz'] = vac['VACx'] + vac['VACy'] + vac['VACz']\n",
    "vac['VACxyz'] /= vac['VACxyz'].max()\n",
    "plt.figure(figsize=(12,5))\n",
    "plt.subplot(1,2,1)\n",
    "plt.plot(vac['t'], vac['VACxyz'])\n",
    "plt.xlabel('Correlation Time (ps)')\n",
    "plt.ylabel('VAC (Normalized)')\n",
    "plt.title('Velocity Auto-Correlation')\n",
    "plt.subplot(1,2,2)\n",
    "plt.plot(dos['nu'], dos['DOSxyz'])\n",
    "plt.xlabel('Frequency (THz)')\n",
    "plt.ylabel('DOS (1/THz)')\n",
    "plt.title('Phonon Density of States')\n",
    "plt.tight_layout()\n",
    "plt.show()"
   ]
  },
  {
   "cell_type": "markdown",
   "id": "35e27b81",
   "metadata": {},
   "source": [
    "## 8. Notes on NEP Training\n",
    "\n",
    "If you need to train a NEP model, use the NEP package and your training dataset. Example training command:\n",
    "```bash\n",
    "nep train --input training_data.extxyz --output C_2022_NEP3.txt\n",
    "```\n",
    "        "
   ]
  },
  {
   "cell_type": "markdown",
   "id": "00232270",
   "metadata": {},
   "source": [
    "## 9. References\n",
    "- Zheyong Fan et al., [GPUMD: A package for constructing accurate machine-learned potentials and performing highly efficient atomistic simulations](https://doi.org/10.1063/5.0106617), J. Chem. Phys. 157, 114801 (2022).\n",
    "- GPUMD Documentation: https://gpumd.org/\n",
    "- NEP: https://github.com/zhyan0603/NEP"
   ]
  }
 ],
 "metadata": {
  "language_info": {
   "name": "python"
  }
 },
 "nbformat": 4,
 "nbformat_minor": 5
}
