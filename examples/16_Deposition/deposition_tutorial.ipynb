{
 "cells": [
  {
   "cell_type": "markdown",
   "id": "8ccf7c11",
   "metadata": {},
   "source": [
    "# Deposition Simulation Tutorial with GPUMD\n",
    "This notebook provides a step-by-step guide for simulating atomic deposition using GPUMD, including input preparation, parameter settings, NEP training, and running the workflow."
   ]
  },
  {
   "cell_type": "markdown",
   "id": "45647fb7",
   "metadata": {},
   "source": [
    "## Required Dependencies\n",
    "- Python 3.x\n",
    "- numpy\n",
    "- GPUMD (for MD simulation)\n",
    "- Bash (for running shell scripts)\n",
    "- NEP (for potential training, if needed)\n",
    "\n",
    "Install Python packages with:\n",
    "```python\n",
    "!pip install numpy\n",
    "```\n",
    "GPUMD: [https://gpumd.org/](https://gpumd.org/)\n",
    "NEP: [https://github.com/zhyan0603/NEP](https://github.com/zhyan0603/NEP)"
   ]
  },
  {
   "cell_type": "markdown",
   "id": "0958c53f",
   "metadata": {},
   "source": [
    "## Step 1: Prepare Input Files\n",
    "- `model.xyz`: Substrate atomic structure.\n",
    "- `parameter.in`: Simulation parameters (see below for example).\n",
    "- `cluster/`: Directory containing cluster position files (e.g., `0.txt`, `1.txt`, ...).\n",
    "- `nep.txt`: NEP potential file.\n",
    "\n",
    "If you need to train a NEP model, use the NEP package and your training dataset. Example training command:\n",
    "```bash\n",
    "nep train --input training_data.extxyz --output nep.txt\n",
    "```\n",
    "For this tutorial, a pre-trained NEP file is provided."
   ]
  },
  {
   "cell_type": "code",
   "execution_count": null,
   "id": "d63e6d14",
   "metadata": {},
   "outputs": [],
   "source": [
    "# Check input files\n",
    "import os\n",
    "for fname in ['/opt/GPUMD/examples/16/examples/1_Si/model.xyz', '/opt/GPUMD/examples/16/examples/1_Si/parameter.in', '/opt/GPUMD/examples/16/examples/1_Si/nep.txt']:\n",
    "    print(f'{fname}:', 'Found' if os.path.exists(fname) else 'Missing')"
   ]
  },
  {
   "cell_type": "markdown",
   "id": "995a7fd0",
   "metadata": {},
   "source": [
    "## Step 2: Configure Simulation Parameters\n",
    "Edit `parameter.in` to set deposition cycles, cluster numbers, velocity, and ranges. Example:\n",
    "```\n",
    "path            /path/to/gpumd\n",
    "cycle           2\n",
    "species         6\n",
    "number          15\n",
    "velocity        0.005\n",
    "x_min           0\n",
    "x_max           97.7526\n",
    "y_min           0\n",
    "y_max           97.7526\n",
    "h_min           105\n",
    "h_max           115\n",
    "cutoff          7\n",
    "h_cutoff        100\n",
    "group           3\n",
    "```"
   ]
  },
  {
   "cell_type": "markdown",
   "id": "3f8c55c8",
   "metadata": {},
   "source": [
    "## Step 3: Prepare Cluster Files\n",
    "Each file in `cluster/` (e.g., `0.txt`, `1.txt`) defines atomic positions for a cluster. Example for a single Si atom:\n",
    "```"
   ]
  },
  {
   "cell_type": "markdown",
   "id": "d89d0581",
   "metadata": {},
   "source": [
    "## Step 4: Run Deposition Workflow\n",
    "The workflow is managed by shell and Python scripts. Main steps:\n",
    "1. Copy and prepare files (`submit.sh`).\n",
    "2. Generate deposition sequence and update atomic positions (`main.sh`, `add.py`, `z.py`).\n",
    "3. Run GPUMD simulation for each cycle.\n",
    "\n",
    "To start the workflow, run:\n",
    "```bash\n",
    "bash submit.sh\n",
    "```\n",
    "This will execute all steps and run the deposition simulation."
   ]
  },
  {
   "cell_type": "markdown",
   "id": "b7f13220",
   "metadata": {},
   "source": [
    "## Step 5: GPUMD Simulation Input\n",
    "The `run.in` file configures the MD simulation. Example:\n",
    "```\n",
    "```bash\n",
    "gpumd\n",
    "```"
   ]
  },
  {
   "cell_type": "markdown",
   "id": "cb72fa98",
   "metadata": {},
   "source": [
    "## Step 6: Analyze Results\n",
    "After simulation, analyze the output files (e.g., atomic positions, temperature, deposited atoms) using Python or visualization tools."
   ]
  },
  {
   "cell_type": "code",
   "execution_count": null,
   "id": "ce927e43",
   "metadata": {},
   "outputs": [],
   "source": [
    "# Example: Read final atomic positions\n",
    "import numpy as np\n",
    "with open('/opt/GPUMD/examples/16/examples/1_Si/model.xyz') as f:\n",
    "    lines = f.readlines()[2:]\n",
    "    positions = [list(map(float, line.split()[1:4])) for line in lines]\n",
    "positions = np.array(positions)\n",
    "print('First 5 atom positions:')\n",
    "print(positions[:5])"
   ]
  },
  {
   "cell_type": "markdown",
   "id": "123df533",
   "metadata": {},
   "source": [
    "## Reference\n",
    "If you use this workflow, please cite:\n",
    "Li Y, Guo Y, Xiong S, Yi H, Enhanced heat transport in amorphous silicon via microstructure modulation. Int. J. Heat Mass Transfer, 2024, 222: 125167."
   ]
  }
 ],
 "metadata": {
  "language_info": {
   "name": "python"
  }
 },
 "nbformat": 4,
 "nbformat_minor": 5
}
